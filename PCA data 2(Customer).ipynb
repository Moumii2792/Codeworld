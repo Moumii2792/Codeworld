{
 "cells": [
  {
   "cell_type": "code",
   "execution_count": 40,
   "metadata": {},
   "outputs": [],
   "source": [
    "#Import necessary libraries:\n",
    "import pandas as pd\n",
    "import numpy\n",
    "import pandas\n",
    "from sklearn.preprocessing import MinMaxScaler\n",
    "from sklearn.cluster import KMeans\n",
    "from pandas import read_csv\n",
    "from matplotlib import pyplot as plt"
   ]
  },
  {
   "cell_type": "code",
   "execution_count": 29,
   "metadata": {},
   "outputs": [
    {
     "data": {
      "text/html": [
       "<div>\n",
       "<style scoped>\n",
       "    .dataframe tbody tr th:only-of-type {\n",
       "        vertical-align: middle;\n",
       "    }\n",
       "\n",
       "    .dataframe tbody tr th {\n",
       "        vertical-align: top;\n",
       "    }\n",
       "\n",
       "    .dataframe thead th {\n",
       "        text-align: right;\n",
       "    }\n",
       "</style>\n",
       "<table border=\"1\" class=\"dataframe\">\n",
       "  <thead>\n",
       "    <tr style=\"text-align: right;\">\n",
       "      <th></th>\n",
       "      <th>gender</th>\n",
       "      <th>age</th>\n",
       "      <th>income</th>\n",
       "      <th>kids</th>\n",
       "      <th>ownHome</th>\n",
       "    </tr>\n",
       "  </thead>\n",
       "  <tbody>\n",
       "    <tr>\n",
       "      <td>0</td>\n",
       "      <td>Male</td>\n",
       "      <td>47.316133</td>\n",
       "      <td>49482.81044</td>\n",
       "      <td>2</td>\n",
       "      <td>ownNo</td>\n",
       "    </tr>\n",
       "    <tr>\n",
       "      <td>1</td>\n",
       "      <td>Male</td>\n",
       "      <td>31.386839</td>\n",
       "      <td>35546.28830</td>\n",
       "      <td>1</td>\n",
       "      <td>ownYes</td>\n",
       "    </tr>\n",
       "    <tr>\n",
       "      <td>2</td>\n",
       "      <td>Male</td>\n",
       "      <td>43.200342</td>\n",
       "      <td>44169.18638</td>\n",
       "      <td>0</td>\n",
       "      <td>ownYes</td>\n",
       "    </tr>\n",
       "    <tr>\n",
       "      <td>3</td>\n",
       "      <td>Female</td>\n",
       "      <td>37.316995</td>\n",
       "      <td>81041.98639</td>\n",
       "      <td>1</td>\n",
       "      <td>ownNo</td>\n",
       "    </tr>\n",
       "    <tr>\n",
       "      <td>4</td>\n",
       "      <td>Female</td>\n",
       "      <td>40.954390</td>\n",
       "      <td>79353.01444</td>\n",
       "      <td>3</td>\n",
       "      <td>ownYes</td>\n",
       "    </tr>\n",
       "    <tr>\n",
       "      <td>...</td>\n",
       "      <td>...</td>\n",
       "      <td>...</td>\n",
       "      <td>...</td>\n",
       "      <td>...</td>\n",
       "      <td>...</td>\n",
       "    </tr>\n",
       "    <tr>\n",
       "      <td>295</td>\n",
       "      <td>Female</td>\n",
       "      <td>32.952269</td>\n",
       "      <td>43882.42561</td>\n",
       "      <td>0</td>\n",
       "      <td>ownYes</td>\n",
       "    </tr>\n",
       "    <tr>\n",
       "      <td>296</td>\n",
       "      <td>Female</td>\n",
       "      <td>40.962547</td>\n",
       "      <td>64197.08688</td>\n",
       "      <td>2</td>\n",
       "      <td>ownNo</td>\n",
       "    </tr>\n",
       "    <tr>\n",
       "      <td>297</td>\n",
       "      <td>Male</td>\n",
       "      <td>38.229804</td>\n",
       "      <td>47580.92678</td>\n",
       "      <td>0</td>\n",
       "      <td>ownNo</td>\n",
       "    </tr>\n",
       "    <tr>\n",
       "      <td>298</td>\n",
       "      <td>Male</td>\n",
       "      <td>33.170364</td>\n",
       "      <td>60747.33640</td>\n",
       "      <td>1</td>\n",
       "      <td>ownNo</td>\n",
       "    </tr>\n",
       "    <tr>\n",
       "      <td>299</td>\n",
       "      <td>Male</td>\n",
       "      <td>34.383878</td>\n",
       "      <td>53674.93137</td>\n",
       "      <td>5</td>\n",
       "      <td>ownYes</td>\n",
       "    </tr>\n",
       "  </tbody>\n",
       "</table>\n",
       "<p>300 rows × 5 columns</p>\n",
       "</div>"
      ],
      "text/plain": [
       "     gender        age       income  kids ownHome\n",
       "0      Male  47.316133  49482.81044     2   ownNo\n",
       "1      Male  31.386839  35546.28830     1  ownYes\n",
       "2      Male  43.200342  44169.18638     0  ownYes\n",
       "3    Female  37.316995  81041.98639     1   ownNo\n",
       "4    Female  40.954390  79353.01444     3  ownYes\n",
       "..      ...        ...          ...   ...     ...\n",
       "295  Female  32.952269  43882.42561     0  ownYes\n",
       "296  Female  40.962547  64197.08688     2   ownNo\n",
       "297    Male  38.229804  47580.92678     0   ownNo\n",
       "298    Male  33.170364  60747.33640     1   ownNo\n",
       "299    Male  34.383878  53674.93137     5  ownYes\n",
       "\n",
       "[300 rows x 5 columns]"
      ]
     },
     "execution_count": 29,
     "metadata": {},
     "output_type": "execute_result"
    }
   ],
   "source": [
    "from pandas import read_csv\n",
    "filename = (r'C:\\Users\\moumi\\Desktop\\Busniess Analytucs\\Sem 2\\Machine learning\\Marketing.csv')\n",
    "dataset = read_csv(filename)\n",
    "dataset"
   ]
  },
  {
   "cell_type": "code",
   "execution_count": 30,
   "metadata": {
    "scrolled": true
   },
   "outputs": [
    {
     "data": {
      "text/plain": [
       "gender     0\n",
       "age        0\n",
       "income     0\n",
       "kids       0\n",
       "ownHome    0\n",
       "dtype: int64"
      ]
     },
     "execution_count": 30,
     "metadata": {},
     "output_type": "execute_result"
    }
   ],
   "source": [
    "#Check Null Values\n",
    "dataset.isnull().sum()"
   ]
  },
  {
   "cell_type": "code",
   "execution_count": 31,
   "metadata": {},
   "outputs": [],
   "source": [
    "dataset.loc[dataset['gender']=='Male',\"Gender\"] = 1\n",
    "dataset.loc[dataset['gender']=='Female',\"Gender\"] = 0\n",
    "dataset.loc[dataset['ownHome']=='ownYes',\"Home\"] = 1\n",
    "dataset.loc[dataset['ownHome']=='ownNo',\"Home\"] = 0"
   ]
  },
  {
   "cell_type": "code",
   "execution_count": 32,
   "metadata": {},
   "outputs": [],
   "source": [
    "df=dataset.drop(['gender','ownHome'],axis=1)"
   ]
  },
  {
   "cell_type": "code",
   "execution_count": 33,
   "metadata": {},
   "outputs": [
    {
     "data": {
      "text/html": [
       "<div>\n",
       "<style scoped>\n",
       "    .dataframe tbody tr th:only-of-type {\n",
       "        vertical-align: middle;\n",
       "    }\n",
       "\n",
       "    .dataframe tbody tr th {\n",
       "        vertical-align: top;\n",
       "    }\n",
       "\n",
       "    .dataframe thead th {\n",
       "        text-align: right;\n",
       "    }\n",
       "</style>\n",
       "<table border=\"1\" class=\"dataframe\">\n",
       "  <thead>\n",
       "    <tr style=\"text-align: right;\">\n",
       "      <th></th>\n",
       "      <th>age</th>\n",
       "      <th>income</th>\n",
       "      <th>kids</th>\n",
       "      <th>Gender</th>\n",
       "      <th>Home</th>\n",
       "    </tr>\n",
       "  </thead>\n",
       "  <tbody>\n",
       "    <tr>\n",
       "      <td>0</td>\n",
       "      <td>47.316133</td>\n",
       "      <td>49482.81044</td>\n",
       "      <td>2</td>\n",
       "      <td>1.0</td>\n",
       "      <td>0.0</td>\n",
       "    </tr>\n",
       "    <tr>\n",
       "      <td>1</td>\n",
       "      <td>31.386839</td>\n",
       "      <td>35546.28830</td>\n",
       "      <td>1</td>\n",
       "      <td>1.0</td>\n",
       "      <td>1.0</td>\n",
       "    </tr>\n",
       "    <tr>\n",
       "      <td>2</td>\n",
       "      <td>43.200342</td>\n",
       "      <td>44169.18638</td>\n",
       "      <td>0</td>\n",
       "      <td>1.0</td>\n",
       "      <td>1.0</td>\n",
       "    </tr>\n",
       "    <tr>\n",
       "      <td>3</td>\n",
       "      <td>37.316995</td>\n",
       "      <td>81041.98639</td>\n",
       "      <td>1</td>\n",
       "      <td>0.0</td>\n",
       "      <td>0.0</td>\n",
       "    </tr>\n",
       "    <tr>\n",
       "      <td>4</td>\n",
       "      <td>40.954390</td>\n",
       "      <td>79353.01444</td>\n",
       "      <td>3</td>\n",
       "      <td>0.0</td>\n",
       "      <td>1.0</td>\n",
       "    </tr>\n",
       "    <tr>\n",
       "      <td>...</td>\n",
       "      <td>...</td>\n",
       "      <td>...</td>\n",
       "      <td>...</td>\n",
       "      <td>...</td>\n",
       "      <td>...</td>\n",
       "    </tr>\n",
       "    <tr>\n",
       "      <td>295</td>\n",
       "      <td>32.952269</td>\n",
       "      <td>43882.42561</td>\n",
       "      <td>0</td>\n",
       "      <td>0.0</td>\n",
       "      <td>1.0</td>\n",
       "    </tr>\n",
       "    <tr>\n",
       "      <td>296</td>\n",
       "      <td>40.962547</td>\n",
       "      <td>64197.08688</td>\n",
       "      <td>2</td>\n",
       "      <td>0.0</td>\n",
       "      <td>0.0</td>\n",
       "    </tr>\n",
       "    <tr>\n",
       "      <td>297</td>\n",
       "      <td>38.229804</td>\n",
       "      <td>47580.92678</td>\n",
       "      <td>0</td>\n",
       "      <td>1.0</td>\n",
       "      <td>0.0</td>\n",
       "    </tr>\n",
       "    <tr>\n",
       "      <td>298</td>\n",
       "      <td>33.170364</td>\n",
       "      <td>60747.33640</td>\n",
       "      <td>1</td>\n",
       "      <td>1.0</td>\n",
       "      <td>0.0</td>\n",
       "    </tr>\n",
       "    <tr>\n",
       "      <td>299</td>\n",
       "      <td>34.383878</td>\n",
       "      <td>53674.93137</td>\n",
       "      <td>5</td>\n",
       "      <td>1.0</td>\n",
       "      <td>1.0</td>\n",
       "    </tr>\n",
       "  </tbody>\n",
       "</table>\n",
       "<p>300 rows × 5 columns</p>\n",
       "</div>"
      ],
      "text/plain": [
       "           age       income  kids  Gender  Home\n",
       "0    47.316133  49482.81044     2     1.0   0.0\n",
       "1    31.386839  35546.28830     1     1.0   1.0\n",
       "2    43.200342  44169.18638     0     1.0   1.0\n",
       "3    37.316995  81041.98639     1     0.0   0.0\n",
       "4    40.954390  79353.01444     3     0.0   1.0\n",
       "..         ...          ...   ...     ...   ...\n",
       "295  32.952269  43882.42561     0     0.0   1.0\n",
       "296  40.962547  64197.08688     2     0.0   0.0\n",
       "297  38.229804  47580.92678     0     1.0   0.0\n",
       "298  33.170364  60747.33640     1     1.0   0.0\n",
       "299  34.383878  53674.93137     5     1.0   1.0\n",
       "\n",
       "[300 rows x 5 columns]"
      ]
     },
     "execution_count": 33,
     "metadata": {},
     "output_type": "execute_result"
    }
   ],
   "source": [
    "df"
   ]
  },
  {
   "cell_type": "code",
   "execution_count": 34,
   "metadata": {},
   "outputs": [],
   "source": [
    "mms=MinMaxScaler()\n",
    "mms.fit(df)\n",
    "df_trans=mms.transform(df)"
   ]
  },
  {
   "cell_type": "code",
   "execution_count": 35,
   "metadata": {
    "scrolled": true
   },
   "outputs": [
    {
     "data": {
      "text/plain": [
       "array([[0.45823814, 0.45760445, 0.28571429, 1.        , 0.        ],\n",
       "       [0.19806713, 0.34094336, 0.14285714, 1.        , 1.        ],\n",
       "       [0.39101548, 0.41312469, 0.        , 1.        , 1.        ],\n",
       "       ...,\n",
       "       [0.30983235, 0.44168399, 0.        , 1.        , 0.        ],\n",
       "       [0.2271972 , 0.55189856, 0.14285714, 1.        , 0.        ],\n",
       "       [0.24701736, 0.49269624, 0.71428571, 1.        , 1.        ]])"
      ]
     },
     "execution_count": 35,
     "metadata": {},
     "output_type": "execute_result"
    }
   ],
   "source": [
    "df_trans"
   ]
  },
  {
   "cell_type": "code",
   "execution_count": 37,
   "metadata": {},
   "outputs": [],
   "source": [
    "dff=pd.DataFrame(df_trans, columns=['Age','Income','Kids','Gemder','Home'])"
   ]
  },
  {
   "cell_type": "code",
   "execution_count": 38,
   "metadata": {},
   "outputs": [
    {
     "data": {
      "text/html": [
       "<div>\n",
       "<style scoped>\n",
       "    .dataframe tbody tr th:only-of-type {\n",
       "        vertical-align: middle;\n",
       "    }\n",
       "\n",
       "    .dataframe tbody tr th {\n",
       "        vertical-align: top;\n",
       "    }\n",
       "\n",
       "    .dataframe thead th {\n",
       "        text-align: right;\n",
       "    }\n",
       "</style>\n",
       "<table border=\"1\" class=\"dataframe\">\n",
       "  <thead>\n",
       "    <tr style=\"text-align: right;\">\n",
       "      <th></th>\n",
       "      <th>Age</th>\n",
       "      <th>Income</th>\n",
       "      <th>Kids</th>\n",
       "      <th>Gemder</th>\n",
       "      <th>Home</th>\n",
       "    </tr>\n",
       "  </thead>\n",
       "  <tbody>\n",
       "    <tr>\n",
       "      <td>0</td>\n",
       "      <td>0.458238</td>\n",
       "      <td>0.457604</td>\n",
       "      <td>0.285714</td>\n",
       "      <td>1.0</td>\n",
       "      <td>0.0</td>\n",
       "    </tr>\n",
       "    <tr>\n",
       "      <td>1</td>\n",
       "      <td>0.198067</td>\n",
       "      <td>0.340943</td>\n",
       "      <td>0.142857</td>\n",
       "      <td>1.0</td>\n",
       "      <td>1.0</td>\n",
       "    </tr>\n",
       "    <tr>\n",
       "      <td>2</td>\n",
       "      <td>0.391015</td>\n",
       "      <td>0.413125</td>\n",
       "      <td>0.000000</td>\n",
       "      <td>1.0</td>\n",
       "      <td>1.0</td>\n",
       "    </tr>\n",
       "    <tr>\n",
       "      <td>3</td>\n",
       "      <td>0.294924</td>\n",
       "      <td>0.721783</td>\n",
       "      <td>0.142857</td>\n",
       "      <td>0.0</td>\n",
       "      <td>0.0</td>\n",
       "    </tr>\n",
       "    <tr>\n",
       "      <td>4</td>\n",
       "      <td>0.354333</td>\n",
       "      <td>0.707645</td>\n",
       "      <td>0.428571</td>\n",
       "      <td>0.0</td>\n",
       "      <td>1.0</td>\n",
       "    </tr>\n",
       "    <tr>\n",
       "      <td>...</td>\n",
       "      <td>...</td>\n",
       "      <td>...</td>\n",
       "      <td>...</td>\n",
       "      <td>...</td>\n",
       "      <td>...</td>\n",
       "    </tr>\n",
       "    <tr>\n",
       "      <td>295</td>\n",
       "      <td>0.223635</td>\n",
       "      <td>0.410724</td>\n",
       "      <td>0.000000</td>\n",
       "      <td>0.0</td>\n",
       "      <td>1.0</td>\n",
       "    </tr>\n",
       "    <tr>\n",
       "      <td>296</td>\n",
       "      <td>0.354466</td>\n",
       "      <td>0.580776</td>\n",
       "      <td>0.285714</td>\n",
       "      <td>0.0</td>\n",
       "      <td>0.0</td>\n",
       "    </tr>\n",
       "    <tr>\n",
       "      <td>297</td>\n",
       "      <td>0.309832</td>\n",
       "      <td>0.441684</td>\n",
       "      <td>0.000000</td>\n",
       "      <td>1.0</td>\n",
       "      <td>0.0</td>\n",
       "    </tr>\n",
       "    <tr>\n",
       "      <td>298</td>\n",
       "      <td>0.227197</td>\n",
       "      <td>0.551899</td>\n",
       "      <td>0.142857</td>\n",
       "      <td>1.0</td>\n",
       "      <td>0.0</td>\n",
       "    </tr>\n",
       "    <tr>\n",
       "      <td>299</td>\n",
       "      <td>0.247017</td>\n",
       "      <td>0.492696</td>\n",
       "      <td>0.714286</td>\n",
       "      <td>1.0</td>\n",
       "      <td>1.0</td>\n",
       "    </tr>\n",
       "  </tbody>\n",
       "</table>\n",
       "<p>300 rows × 5 columns</p>\n",
       "</div>"
      ],
      "text/plain": [
       "          Age    Income      Kids  Gemder  Home\n",
       "0    0.458238  0.457604  0.285714     1.0   0.0\n",
       "1    0.198067  0.340943  0.142857     1.0   1.0\n",
       "2    0.391015  0.413125  0.000000     1.0   1.0\n",
       "3    0.294924  0.721783  0.142857     0.0   0.0\n",
       "4    0.354333  0.707645  0.428571     0.0   1.0\n",
       "..        ...       ...       ...     ...   ...\n",
       "295  0.223635  0.410724  0.000000     0.0   1.0\n",
       "296  0.354466  0.580776  0.285714     0.0   0.0\n",
       "297  0.309832  0.441684  0.000000     1.0   0.0\n",
       "298  0.227197  0.551899  0.142857     1.0   0.0\n",
       "299  0.247017  0.492696  0.714286     1.0   1.0\n",
       "\n",
       "[300 rows x 5 columns]"
      ]
     },
     "execution_count": 38,
     "metadata": {},
     "output_type": "execute_result"
    }
   ],
   "source": [
    "dff"
   ]
  },
  {
   "cell_type": "code",
   "execution_count": 47,
   "metadata": {},
   "outputs": [
    {
     "data": {
      "image/png": "[encoded data removed]",
      "text/plain": [
       "<Figure size 432x288 with 1 Axes>"
      ]
     },
     "metadata": {
      "needs_background": "light"
     },
     "output_type": "display_data"
    }
   ],
   "source": [
    "dff.plot(kind='scatter',x='Age',y='Income')\n",
    "plt.show()"
   ]
  },
  {
   "cell_type": "code",
   "execution_count": 51,
   "metadata": {},
   "outputs": [],
   "source": [
    "Sum_of_Squared_distances=[]\n",
    "K=range(1,16)\n",
    "for k in K:\n",
    "    km=KMeans(n_clusters=k)\n",
    "    km=km.fit(dff)\n",
    "    Sum_of_Squared_distances.append(km.inertia_)"
   ]
  },
  {
   "cell_type": "code",
   "execution_count": 53,
   "metadata": {
    "scrolled": true
   },
   "outputs": [
    {
     "data": {
      "image/png": "[encoded data removed]",
      "text/plain": [
       "<Figure size 432x288 with 1 Axes>"
      ]
     },
     "metadata": {
      "needs_background": "light"
     },
     "output_type": "display_data"
    }
   ],
   "source": [
    "plt.plot(K,Sum_of_Squared_distances,'bx-')\n",
    "plt.xlabel('k')\n",
    "plt.ylabel('Sum_of_Squared_distances')\n",
    "plt.title('Elbow method for optimal K')\n",
    "plt.show()"
   ]
  },
  {
   "cell_type": "code",
   "execution_count": 64,
   "metadata": {},
   "outputs": [],
   "source": [
    "# in the plot above the elbow is at k=4\n",
    "#k=4\n",
    "km4=KMeans(n_clusters=4)\n",
    "km4=km4.fit(dff)"
   ]
  },
  {
   "cell_type": "code",
   "execution_count": 65,
   "metadata": {},
   "outputs": [
    {
     "name": "stdout",
     "output_type": "stream",
     "text": [
      "[1 2 2 0 3 2 1 1 0 3 2 0 0 2 2 2 3 3 3 3 3 3 1 3 3 3 1 1 0 0 1 0 2 1 0 1 2\n",
      " 0 3 3 2 0 2 1 1 1 3 0 0 2 3 2 3 1 3 1 2 1 1 1 0 1 0 0 1 0 0 3 0 1 0 3 3 1\n",
      " 2 1 1 1 2 2 3 0 3 2 1 1 3 0 0 2 2 3 1 1 2 2 3 0 2 1 1 1 1 1 1 1 1 2 1 1 0\n",
      " 1 1 1 1 1 0 3 1 2 0 3 1 0 2 1 1 1 0 3 1 0 0 0 1 1 1 0 3 1 0 0 1 2 3 0 0 1\n",
      " 0 3 3 2 2 0 3 2 3 1 3 2 3 3 2 2 2 3 2 3 3 2 3 1 1 1 2 2 2 3 2 3 3 3 3 2 3\n",
      " 0 3 3 2 3 0 2 1 2 2 2 3 2 2 3 3 1 2 3 0 0 3 2 1 3 2 0 3 2 3 2 0 0 1 3 3 1\n",
      " 2 2 2 2 0 3 0 1 3 2 0 1 1 2 0 2 1 3 3 0 0 0 0 0 3 0 0 1 0 3 1 0 0 1 0 3 0\n",
      " 0 3 0 1 2 2 0 1 0 2 0 3 0 3 3 0 3 0 0 3 0 0 0 0 0 0 3 1 0 0 1 1 0 3 0 2 3\n",
      " 0 1 1 2]\n"
     ]
    }
   ],
   "source": [
    "print(km4.labels_)"
   ]
  },
  {
   "cell_type": "code",
   "execution_count": 66,
   "metadata": {},
   "outputs": [
    {
     "name": "stdout",
     "output_type": "stream",
     "text": [
      "[1 2 2 0 3 2 1 1 0 3 2 0 0 2 2 2 3 3 3 3 3 3 1 3 3 3 1 1 0 0 1 0 2 1 0 1 2\n",
      " 0 3 3 2 0 2 1 1 1 3 0 0 2 3 2 3 1 3 1 2 1 1 1 0 1 0 0 1 0 0 3 0 1 0 3 3 1\n",
      " 2 1 1 1 2 2 3 0 3 2 1 1 3 0 0 2 2 3 1 1 2 2 3 0 2 1 1 1 1 1 1 1 1 2 1 1 0\n",
      " 1 1 1 1 1 0 3 1 2 0 3 1 0 2 1 1 1 0 3 1 0 0 0 1 1 1 0 3 1 0 0 1 2 3 0 0 1\n",
      " 0 3 3 2 2 0 3 2 3 1 3 2 3 3 2 2 2 3 2 3 3 2 3 1 1 1 2 2 2 3 2 3 3 3 3 2 3\n",
      " 0 3 3 2 3 0 2 1 2 2 2 3 2 2 3 3 1 2 3 0 0 3 2 1 3 2 0 3 2 3 2 0 0 1 3 3 1\n",
      " 2 2 2 2 0 3 0 1 3 2 0 1 1 2 0 2 1 3 3 0 0 0 0 0 3 0 0 1 0 3 1 0 0 1 0 3 0\n",
      " 0 3 0 1 2 2 0 1 0 2 0 3 0 3 3 0 3 0 0 3 0 0 0 0 0 0 3 1 0 0 1 1 0 3 0 2 3\n",
      " 0 1 1 2]\n"
     ]
    },
    {
     "data": {
      "text/plain": [
       "cluster\n",
       "0    81\n",
       "1    78\n",
       "2    65\n",
       "3    76\n",
       "dtype: int64"
      ]
     },
     "execution_count": 66,
     "metadata": {},
     "output_type": "execute_result"
    }
   ],
   "source": [
    "print(km4.labels_)\n",
    "result=km4.labels_\n",
    "result=pd.DataFrame(result, columns=['cluster'])\n",
    "result.groupby('cluster').size()"
   ]
  },
  {
   "cell_type": "code",
   "execution_count": 73,
   "metadata": {},
   "outputs": [
    {
     "data": {
      "text/html": [
       "<div>\n",
       "<style scoped>\n",
       "    .dataframe tbody tr th:only-of-type {\n",
       "        vertical-align: middle;\n",
       "    }\n",
       "\n",
       "    .dataframe tbody tr th {\n",
       "        vertical-align: top;\n",
       "    }\n",
       "\n",
       "    .dataframe thead th {\n",
       "        text-align: right;\n",
       "    }\n",
       "</style>\n",
       "<table border=\"1\" class=\"dataframe\">\n",
       "  <thead>\n",
       "    <tr style=\"text-align: right;\">\n",
       "      <th></th>\n",
       "      <th>AvgAge</th>\n",
       "      <th>AvgIncome</th>\n",
       "      <th>AvgKids</th>\n",
       "      <th>AvgGender</th>\n",
       "      <th>AvgHome</th>\n",
       "    </tr>\n",
       "  </thead>\n",
       "  <tbody>\n",
       "    <tr>\n",
       "      <td>0</td>\n",
       "      <td>0.297697</td>\n",
       "      <td>0.464433</td>\n",
       "      <td>0.204586</td>\n",
       "      <td>0.0</td>\n",
       "      <td>4.996004e-16</td>\n",
       "    </tr>\n",
       "    <tr>\n",
       "      <td>1</td>\n",
       "      <td>0.277777</td>\n",
       "      <td>0.414819</td>\n",
       "      <td>0.181319</td>\n",
       "      <td>1.0</td>\n",
       "      <td>4.996004e-16</td>\n",
       "    </tr>\n",
       "    <tr>\n",
       "      <td>2</td>\n",
       "      <td>0.446025</td>\n",
       "      <td>0.496832</td>\n",
       "      <td>0.175824</td>\n",
       "      <td>1.0</td>\n",
       "      <td>1.000000e+00</td>\n",
       "    </tr>\n",
       "    <tr>\n",
       "      <td>3</td>\n",
       "      <td>0.430656</td>\n",
       "      <td>0.508723</td>\n",
       "      <td>0.161654</td>\n",
       "      <td>0.0</td>\n",
       "      <td>1.000000e+00</td>\n",
       "    </tr>\n",
       "  </tbody>\n",
       "</table>\n",
       "</div>"
      ],
      "text/plain": [
       "     AvgAge  AvgIncome   AvgKids  AvgGender       AvgHome\n",
       "0  0.297697   0.464433  0.204586        0.0  4.996004e-16\n",
       "1  0.277777   0.414819  0.181319        1.0  4.996004e-16\n",
       "2  0.446025   0.496832  0.175824        1.0  1.000000e+00\n",
       "3  0.430656   0.508723  0.161654        0.0  1.000000e+00"
      ]
     },
     "execution_count": 73,
     "metadata": {},
     "output_type": "execute_result"
    }
   ],
   "source": [
    "centroids=km4.cluster_centers_\n",
    "centroids=pd.DataFrame(centroids, columns=['AvgAge','AvgIncome','AvgKids','AvgGender','AvgHome'])\n",
    "centroids"
   ]
  },
  {
   "cell_type": "code",
   "execution_count": 83,
   "metadata": {},
   "outputs": [
    {
     "data": {
      "image/png": "[encoded data removed]",
      "text/plain": [
       "<Figure size 432x288 with 1 Axes>"
      ]
     },
     "metadata": {
      "needs_background": "light"
     },
     "output_type": "display_data"
    }
   ],
   "source": [
    "centroids.plot(kind='scatter',x='AvgAge',y='AvgIncome')\n",
    "plt.show()"
   ]
  },
  {
   "cell_type": "code",
   "execution_count": null,
   "metadata": {},
   "outputs": [],
   "source": []
  },
  {
   "cell_type": "code",
   "execution_count": null,
   "metadata": {},
   "outputs": [],
   "source": []
  },
  {
   "cell_type": "code",
   "execution_count": null,
   "metadata": {},
   "outputs": [],
   "source": []
  },
  {
   "cell_type": "code",
   "execution_count": null,
   "metadata": {},
   "outputs": [],
   "source": []
  },
  {
   "cell_type": "code",
   "execution_count": null,
   "metadata": {},
   "outputs": [],
   "source": []
  },
  {
   "cell_type": "code",
   "execution_count": 53,
   "metadata": {},
   "outputs": [],
   "source": [
    "from sklearn.model_selection import train_test_split\n",
    "X_train, X_validation, Y_train, Y_validation = train_test_split(X, Y, test_size=0.20, random_state=1)"
   ]
  },
  {
   "cell_type": "code",
   "execution_count": 54,
   "metadata": {},
   "outputs": [],
   "source": [
    "from sklearn.preprocessing import StandardScaler\n",
    "sc = StandardScaler()\n",
    "X_train = sc.fit_transform(X_train)\n",
    "X_validation = sc.transform(X_validation)"
   ]
  },
  {
   "cell_type": "code",
   "execution_count": 56,
   "metadata": {},
   "outputs": [
    {
     "name": "stdout",
     "output_type": "stream",
     "text": [
      "[0.76000529 0.23999471]\n"
     ]
    }
   ],
   "source": [
    "#PCA\n",
    "from sklearn.decomposition import PCA\n",
    "pca = PCA(n_components=2)\n",
    "X_train = pca.fit_transform(X_train)\n",
    "X_validation = pca.transform(X_validation)\n",
    "explained_variance = pca.explained_variance_ratio_\n",
    "print(explained_variance)"
   ]
  },
  {
   "cell_type": "code",
   "execution_count": 45,
   "metadata": {},
   "outputs": [
    {
     "name": "stdout",
     "output_type": "stream",
     "text": [
      "----------------------> [DecisionTreeClassifier]\n",
      "[[18 12]\n",
      " [18 12]]\n",
      "Accuracy 0.5\n"
     ]
    }
   ],
   "source": [
    "#decision tree\n",
    "from sklearn.tree import DecisionTreeClassifier\n",
    "classifier = DecisionTreeClassifier()\n",
    "classifier.fit(X_train, Y_train)\n",
    "Y_pred = classifier.predict(X_validation)\n",
    "from sklearn.metrics import confusion_matrix, accuracy_score\n",
    "print (\"----------------------> [DecisionTreeClassifier]\")\n",
    "print(confusion_matrix(Y_validation,Y_pred))\n",
    "print('Accuracy' , accuracy_score(Y_validation, Y_pred))"
   ]
  },
  {
   "cell_type": "code",
   "execution_count": 46,
   "metadata": {},
   "outputs": [
    {
     "name": "stdout",
     "output_type": "stream",
     "text": [
      "[[14 16]\n",
      " [17 13]]\n",
      "Accuracy 0.45\n"
     ]
    }
   ],
   "source": [
    "#kneighbours\n",
    "from sklearn.neighbors import KNeighborsClassifier\n",
    "classifier = KNeighborsClassifier(n_neighbors=5)\n",
    "classifier.fit(X_train, Y_train)\n",
    "Y_pred = classifier.predict(X_validation)\n",
    "from sklearn.metrics import confusion_matrix, accuracy_score\n",
    "print(confusion_matrix(Y_validation,Y_pred))\n",
    "print('Accuracy' , accuracy_score(Y_validation, Y_pred))"
   ]
  },
  {
   "cell_type": "code",
   "execution_count": 47,
   "metadata": {},
   "outputs": [
    {
     "name": "stdout",
     "output_type": "stream",
     "text": [
      "[[26  4]\n",
      " [20 10]]\n",
      "Accuracy 0.6\n"
     ]
    }
   ],
   "source": [
    "#Gaussian\n",
    "from sklearn.naive_bayes import GaussianNB\n",
    "classifier = GaussianNB()\n",
    "classifier.fit(X_train, Y_train)\n",
    "Y_pred = classifier.predict(X_validation)\n",
    "from sklearn.metrics import confusion_matrix, accuracy_score\n",
    "print(confusion_matrix(Y_validation,Y_pred))\n",
    "print('Accuracy' , accuracy_score(Y_validation, Y_pred))\n"
   ]
  },
  {
   "cell_type": "code",
   "execution_count": 48,
   "metadata": {},
   "outputs": [
    {
     "name": "stdout",
     "output_type": "stream",
     "text": [
      "[[30  0]\n",
      " [30  0]]\n",
      "Accuracy 0.5\n"
     ]
    }
   ],
   "source": [
    "#SVC\n",
    "from sklearn.svm import SVC\n",
    "classifier = SVC(kernel='linear')\n",
    "classifier.fit(X_train, Y_train)\n",
    "\n",
    "Y_pred = classifier.predict(X_validation)\n",
    "\n",
    "from sklearn.metrics import accuracy_score, confusion_matrix\n",
    "print(confusion_matrix(Y_validation,Y_pred))\n",
    "print('Accuracy' , accuracy_score(Y_validation, Y_pred))"
   ]
  },
  {
   "cell_type": "code",
   "execution_count": null,
   "metadata": {},
   "outputs": [],
   "source": []
  }
 ],
 "metadata": {
  "kernelspec": {
   "display_name": "Python 3",
   "language": "python",
   "name": "python3"
  },
  "language_info": {
   "codemirror_mode": {
    "name": "ipython",
    "version": 3
   },
   "file_extension": ".py",
   "mimetype": "text/x-python",
   "name": "python",
   "nbconvert_exporter": "python",
   "pygments_lexer": "ipython3",
   "version": "3.7.4"
  }
 },
 "nbformat": 4,
 "nbformat_minor": 2
}
