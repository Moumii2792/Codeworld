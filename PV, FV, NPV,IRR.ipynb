{
 "cells": [
  {
   "cell_type": "code",
   "execution_count": 19,
   "metadata": {},
   "outputs": [],
   "source": [
    "import pandas as pd\n",
    "import numpy\n",
    "import scipy as sp"
   ]
  },
  {
   "cell_type": "code",
   "execution_count": 20,
   "metadata": {},
   "outputs": [
    {
     "name": "stdout",
     "output_type": "stream",
     "text": [
      "Answer-1 The Present Value is $321.93\n"
     ]
    }
   ],
   "source": [
    "#What is the present value of $418 received in 12 years with an annual discount rate of 2.2%?\n",
    "def pv_f(fv,r,n):\n",
    "    return fv/(1+r)**n\n",
    "pv=pv_f(418,0.022,12)\n",
    "print('Answer-1 The Present Value is ' + '$' + '%.2f' % + pv)"
   ]
  },
  {
   "cell_type": "markdown",
   "metadata": {},
   "source": [
    "# Answer:1"
   ]
  },
  {
   "cell_type": "code",
   "execution_count": 21,
   "metadata": {},
   "outputs": [
    {
     "name": "stdout",
     "output_type": "stream",
     "text": [
      "Answer-1 The Present Value is $-321.93\n"
     ]
    }
   ],
   "source": [
    "pvrate=0.022\n",
    "pvnper=12\n",
    "pvpmt=0\n",
    "pvfv=418\n",
    "pvwhen=0\n",
    "pv=numpy.pv(pvrate,pvnper,pvpmt,pvfv,pvwhen)\n",
    "print('Answer-1 The Present Value is ' + '$' + '%.2f' % + pv)\n",
    "#the answer is in neagtive as we need to invest that amount od money"
   ]
  },
  {
   "cell_type": "markdown",
   "metadata": {},
   "source": [
    "# Answer:2"
   ]
  },
  {
   "cell_type": "code",
   "execution_count": 22,
   "metadata": {},
   "outputs": [
    {
     "name": "stdout",
     "output_type": "stream",
     "text": [
      "Answer-2 The Present Value is $3113.35\n"
     ]
    }
   ],
   "source": [
    "#If you deposit $2,400 in the bank for 15 years and the annual interest rate us 1.75%,\n",
    "#what is the future value of your deposit in 15 years?\n",
    "fvrate=0.0175\n",
    "fvnper=15\n",
    "fvpmt=0\n",
    "fvpv=-2400\n",
    "fvwhen=0\n",
    "fv=numpy.fv(fvrate,fvnper,fvpmt,fvpv,fvwhen)\n",
    "print('Answer-2 The Present Value is ' + '$' + '%.2f' % + fv)"
   ]
  },
  {
   "cell_type": "markdown",
   "metadata": {},
   "source": [
    "# Answer:3"
   ]
  },
  {
   "cell_type": "code",
   "execution_count": 23,
   "metadata": {},
   "outputs": [
    {
     "name": "stdout",
     "output_type": "stream",
     "text": [
      "Answer-3 The Present Value is $675.94\n"
     ]
    }
   ],
   "source": [
    "#Annual payment of an investment is $35 with 18 years remaining in the investment vehicle. \n",
    "#What is the present value if the annual discount rate is 4.32%, compounded semi-annually?\n",
    "pvrate=0.0432/2\n",
    "pvnper=18*2\n",
    "pvpmt=-35\n",
    "pvwhen=0\n",
    "pv=numpy.pv(pvrate,pvnper,pvpmt,pvfv,pvwhen)\n",
    "print('Answer-3 The Present Value is ' + '$' + '%.2f' % + pv)"
   ]
  },
  {
   "cell_type": "markdown",
   "metadata": {},
   "source": [
    "# Answer:4a"
   ]
  },
  {
   "cell_type": "code",
   "execution_count": 54,
   "metadata": {},
   "outputs": [
    {
     "name": "stdout",
     "output_type": "stream",
     "text": [
      "Answer-4a The Present Value is $1315.04\n"
     ]
    }
   ],
   "source": [
    "#a)\tIf you are trying to achieve a savings goal of $5,500 by the end of 2023 \n",
    "#(assuming you started Jan 1st, 2020), how much do you have to save each year if the corresponding annual rate is 2.98%?\n",
    "a=sp.pmt(.0298,4,0,5500)*-1\n",
    "print('Answer-4a The Present Value is ' + '$' + '%.2f' % + a)"
   ]
  },
  {
   "cell_type": "markdown",
   "metadata": {},
   "source": [
    "# 4b semiannually"
   ]
  },
  {
   "cell_type": "code",
   "execution_count": 55,
   "metadata": {},
   "outputs": [
    {
     "name": "stdout",
     "output_type": "stream",
     "text": [
      "Answer-4b The Present Value is $652.44\n"
     ]
    }
   ],
   "source": [
    "#b)\tHow much do you have to save semi-annually?\n",
    "b=sp.pmt(.0298/2,8,0,5500)*-1\n",
    "print('Answer-4b The Present Value is ' + '$' + '%.2f' % + b)"
   ]
  },
  {
   "cell_type": "markdown",
   "metadata": {},
   "source": [
    "# Answer:5"
   ]
  },
  {
   "cell_type": "code",
   "execution_count": null,
   "metadata": {},
   "outputs": [],
   "source": [
    "#A capital investment in an equipment with an upfront cost of $23,540 will provide you with\n",
    "#the following annual cash flow stream (paid end of year):\n",
    "#1.\t$2,000\n",
    "#2.\t$1,456\n",
    "#3.\t$3,230\n",
    "#4.\t$6,850\n",
    "#5.\t$2,384\n",
    "#6.\t$1,234\n",
    "#7.\t$5,987\n",
    "#8.\t$4,190\n",
    "\n",
    "#The project will incur the following cost for maintenance and repair (paid end of year):\n",
    "#Year 3: ($2,984)\n",
    "#Year 4: ($1,837)\n",
    "#Year 6-8: ($2,000)\n",
    "#Calculate the NPV of the investment and comment on whether you should invest in the project. \n",
    "#Why or why not? What is the IRR of the investment?\n"
   ]
  },
  {
   "cell_type": "code",
   "execution_count": 59,
   "metadata": {},
   "outputs": [
    {
     "name": "stdout",
     "output_type": "stream",
     "text": [
      "-0.07\n",
      "Answer-5 We should invest since the net present Value is positive i.e. $83.94\n"
     ]
    }
   ],
   "source": [
    "cashflows=[-23540,2000,1456,(3230-2984),(6850-1837),2384,(1234-2000),(5987-2000),(4190-2000)]\n",
    "IRR=sp.irr(cashflows)\n",
    "print(round(IRR,2))\n",
    "npv=sp.npv(-0.07,cashflows)\n",
    "print('Answer-5 We should invest since the net present Value is positive i.e. ' + '$' + '%.2f' % + npv)"
   ]
  },
  {
   "cell_type": "code",
   "execution_count": null,
   "metadata": {},
   "outputs": [],
   "source": []
  }
 ],
 "metadata": {
  "kernelspec": {
   "display_name": "Python 3",
   "language": "python",
   "name": "python3"
  },
  "language_info": {
   "codemirror_mode": {
    "name": "ipython",
    "version": 3
   },
   "file_extension": ".py",
   "mimetype": "text/x-python",
   "name": "python",
   "nbconvert_exporter": "python",
   "pygments_lexer": "ipython3",
   "version": "3.7.4"
  }
 },
 "nbformat": 4,
 "nbformat_minor": 2
}
